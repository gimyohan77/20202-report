{
 "cells": [
  {
   "cell_type": "code",
   "execution_count": 3,
   "metadata": {},
   "outputs": [
    {
     "name": "stdout",
     "output_type": "stream",
     "text": [
      "Requirement already satisfied: wordcloud in c:\\anaconda3\\envs\\test_preprocessing\\lib\\site-packages (1.8.1)\n",
      "Requirement already satisfied: matplotlib in c:\\anaconda3\\envs\\test_preprocessing\\lib\\site-packages (from wordcloud) (3.2.2)\n",
      "Requirement already satisfied: pillow in c:\\anaconda3\\envs\\test_preprocessing\\lib\\site-packages (from wordcloud) (7.2.0)\n",
      "Requirement already satisfied: numpy>=1.6.1 in c:\\anaconda3\\envs\\test_preprocessing\\lib\\site-packages (from wordcloud) (1.17.0)\n",
      "Requirement already satisfied: cycler>=0.10 in c:\\anaconda3\\envs\\test_preprocessing\\lib\\site-packages (from matplotlib->wordcloud) (0.10.0)\n",
      "Requirement already satisfied: pyparsing!=2.0.4,!=2.1.2,!=2.1.6,>=2.0.1 in c:\\anaconda3\\envs\\test_preprocessing\\lib\\site-packages (from matplotlib->wordcloud) (2.4.7)\n",
      "Requirement already satisfied: python-dateutil>=2.1 in c:\\anaconda3\\envs\\test_preprocessing\\lib\\site-packages (from matplotlib->wordcloud) (2.8.1)\n",
      "Requirement already satisfied: kiwisolver>=1.0.1 in c:\\anaconda3\\envs\\test_preprocessing\\lib\\site-packages (from matplotlib->wordcloud) (1.2.0)\n",
      "Requirement already satisfied: six in c:\\anaconda3\\envs\\test_preprocessing\\lib\\site-packages (from cycler>=0.10->matplotlib->wordcloud) (1.15.0)\n",
      "Note: you may need to restart the kernel to use updated packages.\n"
     ]
    }
   ],
   "source": [
    "pip install wordcloud"
   ]
  },
  {
   "cell_type": "code",
   "execution_count": 5,
   "metadata": {},
   "outputs": [
    {
     "name": "stdout",
     "output_type": "stream",
     "text": [
      "\n",
      "부터 안오를걸 알고있었다.\n",
      " 하락하는날 장개시전분위기- 백만충, 칠십만충게시판장악\n",
      " 상승하는날:  설레발충 마니쓰는날 ㅇㅇ,ㅇㅇ\n",
      "\n",
      "66\n"
     ]
    }
   ],
   "source": [
    "import pandas as pd\n",
    "import numpy as np\n",
    "import os\n",
    "\n",
    "df = pd.read_excel(\"nc소프트1.xlsx\")\n",
    "\n",
    "con = df.loc[1][\"내용\"]\n",
    "print(con)\n",
    "a = con.find('하락')+con.find('상승')+1\n",
    "print(a)\n",
    "\n",
    "#text1 = ''\n",
    "#for i in range(0, 9500, 1):\n",
    "#    con = df.loc[i][\"내용\"]\n",
    "#    text1 = text1+str(con)\n"
   ]
  },
  {
   "cell_type": "code",
   "execution_count": 16,
   "metadata": {},
   "outputs": [],
   "source": [
    "from konlpy.tag import Twitter\n",
    "from collections import Counter\n",
    "\n",
    "def get_tags(text, ntags = 50):\n",
    "    spliter = Twitter()\n",
    "    nouns = spliter.morphs(text)\n",
    "    count = Counter(nouns)\n",
    "    return_list = []\n",
    "    for n, c in count.most_common(ntags):\n",
    "        temp = {'tag':n, 'count':c}\n",
    "        return_list.append(temp)\n",
    "    \n",
    "    return return_list\n",
    "    "
   ]
  },
  {
   "cell_type": "code",
   "execution_count": 52,
   "metadata": {},
   "outputs": [],
   "source": [
    "def main():\n",
    "    noun_count = 300\n",
    "    #f = open(\"11월 14일 ~ 20일.txt\", \"r\", encoding = 'UTF-8')\n",
    "    #text = f.read()\n",
    "    tags = get_tags(text1, noun_count)\n",
    "    #f.close()\n",
    "    z = open(\"엔씨.txt\", \"w\", -1, \"utf-8\")\n",
    "    \n",
    "    for tag in tags:\n",
    "        noun = tag['tag']\n",
    "        count = tag['count']\n",
    "        z.write('{} {}\\n'.format(noun, count))\n",
    "        \n",
    "    z.close()\n",
    "    \n",
    "if __name__=='__main__':\n",
    "    main()"
   ]
  }
 ],
 "metadata": {
  "kernelspec": {
   "display_name": "Python 3",
   "language": "python",
   "name": "python3"
  },
  "language_info": {
   "codemirror_mode": {
    "name": "ipython",
    "version": 3
   },
   "file_extension": ".py",
   "mimetype": "text/x-python",
   "name": "python",
   "nbconvert_exporter": "python",
   "pygments_lexer": "ipython3",
   "version": "3.7.7"
  }
 },
 "nbformat": 4,
 "nbformat_minor": 4
}
