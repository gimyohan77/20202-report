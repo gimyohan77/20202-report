{
 "cells": [
  {
   "cell_type": "code",
   "execution_count": 1,
   "metadata": {
    "scrolled": true
   },
   "outputs": [
    {
     "name": "stdout",
     "output_type": "stream",
     "text": [
      "006800\n"
     ]
    }
   ],
   "source": [
    "import requests as rq\n",
    "import bs4\n",
    "import time\n",
    "import pandas as pd\n",
    "\n",
    "col = [\"제목\", \"작성자\", \"조회 수\", \"내용\", \"공감\", \"작성일\"]\n",
    "\n",
    "df = pd.DataFrame(index=range(0, 0), columns = col)\n",
    "\n",
    "f = open(\"미래에셋 링크.txt\", \"r\")\n",
    "\n",
    "headers = {'User-Agent':'Mozilla/5.0 (Windows NT 10.0; Win64; x64) AppleWebKit/537.36 (KHTML, like Gecko) Chrome/87.0.4280.66 Safari/537.36'}\n",
    "line = '---------------------------\\n'\n",
    "\n",
    "target = \"https://finance.naver.com/item/board.nhn?code=\"\n",
    "a = input()\n",
    "\n",
    "add = target + a\n",
    "\n",
    "res = rq.get(add, headers = headers)             # 종목 정보\n",
    "soup = bs4.BeautifulSoup(res.text, \"html.parser\")\n",
    "soup1 = soup.find(\"div\", class_=\"rate_info\").text.replace(\"\\n\\n\", \" \")\n",
    "\n",
    "\n",
    "for title in f:\n",
    "    title = f.readlines()\n",
    "    \n",
    "#title1 = title[1][:-1]\n",
    "\n",
    "#print(title1)\n",
    "\n",
    "#res = rq.get(title1, headers = headers)\n",
    "#soup = bs4.BeautifulSoup(res.text, \"html.parser\")\n",
    "#head = soup.find(\"strong\", class_=\"c p15\").text\n",
    "#nick = soup.find(\"span\", class_=\"gray03\").text\n",
    "#joh = soup.find(\"span\", class_ = \"tah p11\").text\n",
    "#cont = soup.find(\"div\", class_=\"scr01\").text\n",
    "#chu = soup.find(\"span\", class_ = \"cnt _goodCntInBtn\").text\n",
    "#a = head + '\\n' + nick + ' ' + joh + ' ' + cont + ' ' + chu + '\\n'\n",
    "#print(a)\n",
    "\n",
    "for i in range(1, 5900, 1):\n",
    "    title1 = title[i][:-1]\n",
    "    res = rq.get(title1, headers = headers)\n",
    "    soup = bs4.BeautifulSoup(res.text, \"html.parser\")\n",
    "    \n",
    "    try:\n",
    "        head = soup.find(\"strong\", class_=\"c p15\").text\n",
    "        nick = soup.find(\"span\", class_=\"gray03\").text\n",
    "        joh =  soup.find(\"span\", class_ = \"tah p11\").text\n",
    "        cont = soup.find(\"div\", class_=\"scr01\").text\n",
    "        chu =  soup.find(\"span\", class_ = \"cnt _goodCntInBtn\").text\n",
    "        date = soup.find(\"th\", class_=\"gray03 p9 tah\").text\n",
    "        a = head + '\\n' + nick + ' ' + joh + '\\n' + date + '\\n' + cont + ' ' + chu + '\\n'\n",
    "        \n",
    "        info = [[head, nick, joh, cont, chu, date]]\n",
    "        \n",
    "        df1 = pd.DataFrame(info, columns = col)\n",
    "        \n",
    "        df = df.append(df1, ignore_index=True)\n",
    "        \n",
    "    except:\n",
    "        pass\n",
    "    \n",
    "    time.sleep(1)\n",
    "\n"
   ]
  },
  {
   "cell_type": "code",
   "execution_count": 2,
   "metadata": {},
   "outputs": [
    {
     "name": "stdout",
     "output_type": "stream",
     "text": [
      "끝\n"
     ]
    }
   ],
   "source": [
    "df = df.applymap(lambda x: x.replace('\\xa0', '').replace('\\xa9', ''))\n",
    "df.to_csv(\"미래에셋1.csv\", encoding = \"utf-8\")\n",
    "print(\"끝\")\n",
    "f.close()\n"
   ]
  }
 ],
 "metadata": {
  "kernelspec": {
   "display_name": "Python 3",
   "language": "python",
   "name": "python3"
  },
  "language_info": {
   "codemirror_mode": {
    "name": "ipython",
    "version": 3
   },
   "file_extension": ".py",
   "mimetype": "text/x-python",
   "name": "python",
   "nbconvert_exporter": "python",
   "pygments_lexer": "ipython3",
   "version": "3.7.7"
  }
 },
 "nbformat": 4,
 "nbformat_minor": 4
}
