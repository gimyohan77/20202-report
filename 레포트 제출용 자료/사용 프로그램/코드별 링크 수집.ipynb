{
 "cells": [
  {
   "cell_type": "code",
   "execution_count": 1,
   "metadata": {},
   "outputs": [
    {
     "name": "stdout",
     "output_type": "stream",
     "text": [
      "006800\n",
      "끝\n"
     ]
    }
   ],
   "source": [
    "import requests as rq\n",
    "import bs4\n",
    "import time\n",
    "\n",
    "BASE_URL = \"https://finance.naver.com\"\n",
    "headers = {'User-Agent':'Mozilla/5.0 (Windows NT 10.0; Win64; x64) AppleWebKit/537.36 (KHTML, like Gecko) Chrome/87.0.4280.66 Safari/537.36'}\n",
    "target = \"https://finance.naver.com/item/board.nhn?code=\"\n",
    "\n",
    "f = open(\"미래에셋 링크\", \"w\", encoding = 'utf-8')\n",
    "\n",
    "#title = \"https://finance.naver.com/item/board.nhn?code=000020&page=2\"\n",
    "#res = rq.get(title, headers = headers)\n",
    "#soup = bs4.BeautifulSoup(res.text, \"html.parser\")\n",
    "#soup1 = soup.find_all('td', class_='title')\n",
    "#soup1\n",
    "#for head in soup1:\n",
    "#    url = BASE_URL + head.a[\"href\"]\n",
    "#    print(url)\n",
    "a = input()\n",
    "\n",
    "add = target + a\n",
    "\n",
    "\n",
    "for i in range(1, 300, 1):\n",
    "    title = target + a + '&page='\n",
    "    target1 = title+str(i)\n",
    "    res = rq.get(target1, headers = headers)\n",
    "    soup = bs4.BeautifulSoup(res.text, \"html.parser\")\n",
    "    soup1 = soup.find_all('td', class_='title')\n",
    "    for head in soup1:\n",
    "        url = BASE_URL + head.a[\"href\"]\n",
    "        f.write(url)\n",
    "        f.write('\\n')\n",
    "    time.sleep(3)\n",
    "    \n",
    "print('끝')\n",
    "#for i in range(1, 2,1):\n",
    "#    target1 = title + str(i)\n",
    "#    res = rq.get(target1)\n",
    "#    soup = bs4.BeautifulSoup(res.text, \"html.parser\")\n",
    "#    soup1 = soup.find_all('td', class_='title')\n",
    "#    for head in soup1:\n",
    "#        url = BASE_URL + head.a[\"href\"]\n",
    "#        print (url)\n",
    "        \n",
    "        \n",
    "        "
   ]
  }
 ],
 "metadata": {
  "kernelspec": {
   "display_name": "Python 3",
   "language": "python",
   "name": "python3"
  },
  "language_info": {
   "codemirror_mode": {
    "name": "ipython",
    "version": 3
   },
   "file_extension": ".py",
   "mimetype": "text/x-python",
   "name": "python",
   "nbconvert_exporter": "python",
   "pygments_lexer": "ipython3",
   "version": "3.7.7"
  }
 },
 "nbformat": 4,
 "nbformat_minor": 4
}
